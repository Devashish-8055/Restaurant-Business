{
 "cells": [
  {
   "cell_type": "code",
   "execution_count": 34,
   "id": "a72e9af6-79ee-42a2-8f53-2ecb288bd1b1",
   "metadata": {},
   "outputs": [],
   "source": [
    "import pandas as pd\n",
    "import matplotlib.pyplot as plt\n",
    "import seaborn as sns"
   ]
  },
  {
   "cell_type": "code",
   "execution_count": 44,
   "id": "17e736ef-be11-4fc9-9bac-6af76288258f",
   "metadata": {},
   "outputs": [
    {
     "data": {
      "text/html": [
       "<div>\n",
       "<style scoped>\n",
       "    .dataframe tbody tr th:only-of-type {\n",
       "        vertical-align: middle;\n",
       "    }\n",
       "\n",
       "    .dataframe tbody tr th {\n",
       "        vertical-align: top;\n",
       "    }\n",
       "\n",
       "    .dataframe thead th {\n",
       "        text-align: right;\n",
       "    }\n",
       "</style>\n",
       "<table border=\"1\" class=\"dataframe\">\n",
       "  <thead>\n",
       "    <tr style=\"text-align: right;\">\n",
       "      <th></th>\n",
       "      <th>Unnamed: 0</th>\n",
       "      <th>order_id</th>\n",
       "      <th>quantity</th>\n",
       "      <th>item_name</th>\n",
       "      <th>choice_description</th>\n",
       "      <th>item_price</th>\n",
       "    </tr>\n",
       "  </thead>\n",
       "  <tbody>\n",
       "    <tr>\n",
       "      <th>0</th>\n",
       "      <td>0</td>\n",
       "      <td>1</td>\n",
       "      <td>1</td>\n",
       "      <td>Chips and Fresh Tomato Salsa</td>\n",
       "      <td>NaN</td>\n",
       "      <td>$2.39</td>\n",
       "    </tr>\n",
       "    <tr>\n",
       "      <th>1</th>\n",
       "      <td>1</td>\n",
       "      <td>1</td>\n",
       "      <td>1</td>\n",
       "      <td>Izze</td>\n",
       "      <td>[Clementine]</td>\n",
       "      <td>$3.39</td>\n",
       "    </tr>\n",
       "  </tbody>\n",
       "</table>\n",
       "</div>"
      ],
      "text/plain": [
       "   Unnamed: 0  order_id  quantity                     item_name  \\\n",
       "0           0         1         1  Chips and Fresh Tomato Salsa   \n",
       "1           1         1         1                          Izze   \n",
       "\n",
       "  choice_description item_price  \n",
       "0                NaN     $2.39   \n",
       "1       [Clementine]     $3.39   "
      ]
     },
     "execution_count": 44,
     "metadata": {},
     "output_type": "execute_result"
    }
   ],
   "source": [
    "Res=pd.read_csv('D:/Data set/resturent.csv')\n",
    "Res.head(2)"
   ]
  },
  {
   "cell_type": "code",
   "execution_count": 45,
   "id": "00a28372-1271-4ff2-be83-dc6058402c2d",
   "metadata": {},
   "outputs": [],
   "source": [
    "# I am filling the null data by using mode method\n",
    "Res.fillna(Res['choice_description'].mode()[0],inplace=True)"
   ]
  },
  {
   "cell_type": "code",
   "execution_count": 46,
   "id": "72c734bb-1685-44ca-b10c-726ce97fa104",
   "metadata": {},
   "outputs": [
    {
     "data": {
      "text/html": [
       "<div>\n",
       "<style scoped>\n",
       "    .dataframe tbody tr th:only-of-type {\n",
       "        vertical-align: middle;\n",
       "    }\n",
       "\n",
       "    .dataframe tbody tr th {\n",
       "        vertical-align: top;\n",
       "    }\n",
       "\n",
       "    .dataframe thead th {\n",
       "        text-align: right;\n",
       "    }\n",
       "</style>\n",
       "<table border=\"1\" class=\"dataframe\">\n",
       "  <thead>\n",
       "    <tr style=\"text-align: right;\">\n",
       "      <th></th>\n",
       "      <th>Unnamed: 0</th>\n",
       "      <th>order_id</th>\n",
       "      <th>quantity</th>\n",
       "      <th>item_name</th>\n",
       "      <th>choice_description</th>\n",
       "      <th>item_price</th>\n",
       "    </tr>\n",
       "  </thead>\n",
       "  <tbody>\n",
       "    <tr>\n",
       "      <th>0</th>\n",
       "      <td>0</td>\n",
       "      <td>1</td>\n",
       "      <td>1</td>\n",
       "      <td>Chips and Fresh Tomato Salsa</td>\n",
       "      <td>[Diet Coke]</td>\n",
       "      <td>$2.39</td>\n",
       "    </tr>\n",
       "    <tr>\n",
       "      <th>1</th>\n",
       "      <td>1</td>\n",
       "      <td>1</td>\n",
       "      <td>1</td>\n",
       "      <td>Izze</td>\n",
       "      <td>[Clementine]</td>\n",
       "      <td>$3.39</td>\n",
       "    </tr>\n",
       "  </tbody>\n",
       "</table>\n",
       "</div>"
      ],
      "text/plain": [
       "   Unnamed: 0  order_id  quantity                     item_name  \\\n",
       "0           0         1         1  Chips and Fresh Tomato Salsa   \n",
       "1           1         1         1                          Izze   \n",
       "\n",
       "  choice_description item_price  \n",
       "0        [Diet Coke]     $2.39   \n",
       "1       [Clementine]     $3.39   "
      ]
     },
     "execution_count": 46,
     "metadata": {},
     "output_type": "execute_result"
    }
   ],
   "source": [
    "Res.head(2)"
   ]
  },
  {
   "cell_type": "code",
   "execution_count": 47,
   "id": "9de3211a-f75c-4e7c-94fd-4ac94eec4bcd",
   "metadata": {},
   "outputs": [
    {
     "data": {
      "text/html": [
       "<div>\n",
       "<style scoped>\n",
       "    .dataframe tbody tr th:only-of-type {\n",
       "        vertical-align: middle;\n",
       "    }\n",
       "\n",
       "    .dataframe tbody tr th {\n",
       "        vertical-align: top;\n",
       "    }\n",
       "\n",
       "    .dataframe thead th {\n",
       "        text-align: right;\n",
       "    }\n",
       "</style>\n",
       "<table border=\"1\" class=\"dataframe\">\n",
       "  <thead>\n",
       "    <tr style=\"text-align: right;\">\n",
       "      <th></th>\n",
       "      <th>Unnamed: 0</th>\n",
       "      <th>order_id</th>\n",
       "      <th>quantity</th>\n",
       "      <th>item_name</th>\n",
       "      <th>choice_description</th>\n",
       "      <th>item_price</th>\n",
       "    </tr>\n",
       "  </thead>\n",
       "  <tbody>\n",
       "    <tr>\n",
       "      <th>0</th>\n",
       "      <td>0</td>\n",
       "      <td>1</td>\n",
       "      <td>1</td>\n",
       "      <td>Chips and Fresh Tomato Salsa</td>\n",
       "      <td>[Diet Coke]</td>\n",
       "      <td>2.39</td>\n",
       "    </tr>\n",
       "    <tr>\n",
       "      <th>1</th>\n",
       "      <td>1</td>\n",
       "      <td>1</td>\n",
       "      <td>1</td>\n",
       "      <td>Izze</td>\n",
       "      <td>[Clementine]</td>\n",
       "      <td>3.39</td>\n",
       "    </tr>\n",
       "  </tbody>\n",
       "</table>\n",
       "</div>"
      ],
      "text/plain": [
       "   Unnamed: 0  order_id  quantity                     item_name  \\\n",
       "0           0         1         1  Chips and Fresh Tomato Salsa   \n",
       "1           1         1         1                          Izze   \n",
       "\n",
       "  choice_description  item_price  \n",
       "0        [Diet Coke]        2.39  \n",
       "1       [Clementine]        3.39  "
      ]
     },
     "execution_count": 47,
     "metadata": {},
     "output_type": "execute_result"
    }
   ],
   "source": [
    "#I just removed the $ symbol from the item price so that i can do calculations in that\n",
    "Res['item_price'] = Res['item_price'].replace({'\\$': ''},regex=True).astype(float)\n",
    "Res.head(2)"
   ]
  },
  {
   "cell_type": "code",
   "execution_count": 48,
   "id": "5d41899d-8ab5-46ce-8c45-68bc52043317",
   "metadata": {},
   "outputs": [
    {
     "data": {
      "text/html": [
       "<div>\n",
       "<style scoped>\n",
       "    .dataframe tbody tr th:only-of-type {\n",
       "        vertical-align: middle;\n",
       "    }\n",
       "\n",
       "    .dataframe tbody tr th {\n",
       "        vertical-align: top;\n",
       "    }\n",
       "\n",
       "    .dataframe thead th {\n",
       "        text-align: right;\n",
       "    }\n",
       "</style>\n",
       "<table border=\"1\" class=\"dataframe\">\n",
       "  <thead>\n",
       "    <tr style=\"text-align: right;\">\n",
       "      <th></th>\n",
       "      <th>Unnamed: 0</th>\n",
       "      <th>order_id</th>\n",
       "      <th>quantity</th>\n",
       "      <th>item_name</th>\n",
       "      <th>choice_description</th>\n",
       "      <th>item_price</th>\n",
       "      <th>Total</th>\n",
       "    </tr>\n",
       "  </thead>\n",
       "  <tbody>\n",
       "    <tr>\n",
       "      <th>0</th>\n",
       "      <td>0</td>\n",
       "      <td>1</td>\n",
       "      <td>1</td>\n",
       "      <td>Chips and Fresh Tomato Salsa</td>\n",
       "      <td>[Diet Coke]</td>\n",
       "      <td>2.39</td>\n",
       "      <td>2.39</td>\n",
       "    </tr>\n",
       "    <tr>\n",
       "      <th>1</th>\n",
       "      <td>1</td>\n",
       "      <td>1</td>\n",
       "      <td>1</td>\n",
       "      <td>Izze</td>\n",
       "      <td>[Clementine]</td>\n",
       "      <td>3.39</td>\n",
       "      <td>3.39</td>\n",
       "    </tr>\n",
       "    <tr>\n",
       "      <th>2</th>\n",
       "      <td>2</td>\n",
       "      <td>1</td>\n",
       "      <td>1</td>\n",
       "      <td>Nantucket Nectar</td>\n",
       "      <td>[Apple]</td>\n",
       "      <td>3.39</td>\n",
       "      <td>3.39</td>\n",
       "    </tr>\n",
       "    <tr>\n",
       "      <th>3</th>\n",
       "      <td>3</td>\n",
       "      <td>1</td>\n",
       "      <td>1</td>\n",
       "      <td>Chips and Tomatillo-Green Chili Salsa</td>\n",
       "      <td>[Diet Coke]</td>\n",
       "      <td>2.39</td>\n",
       "      <td>2.39</td>\n",
       "    </tr>\n",
       "    <tr>\n",
       "      <th>4</th>\n",
       "      <td>4</td>\n",
       "      <td>2</td>\n",
       "      <td>2</td>\n",
       "      <td>Chicken Bowl</td>\n",
       "      <td>[Tomatillo-Red Chili Salsa (Hot), [Black Beans...</td>\n",
       "      <td>16.98</td>\n",
       "      <td>33.96</td>\n",
       "    </tr>\n",
       "  </tbody>\n",
       "</table>\n",
       "</div>"
      ],
      "text/plain": [
       "   Unnamed: 0  order_id  quantity                              item_name  \\\n",
       "0           0         1         1           Chips and Fresh Tomato Salsa   \n",
       "1           1         1         1                                   Izze   \n",
       "2           2         1         1                       Nantucket Nectar   \n",
       "3           3         1         1  Chips and Tomatillo-Green Chili Salsa   \n",
       "4           4         2         2                           Chicken Bowl   \n",
       "\n",
       "                                  choice_description  item_price  Total  \n",
       "0                                        [Diet Coke]        2.39   2.39  \n",
       "1                                       [Clementine]        3.39   3.39  \n",
       "2                                            [Apple]        3.39   3.39  \n",
       "3                                        [Diet Coke]        2.39   2.39  \n",
       "4  [Tomatillo-Red Chili Salsa (Hot), [Black Beans...       16.98  33.96  "
      ]
     },
     "execution_count": 48,
     "metadata": {},
     "output_type": "execute_result"
    }
   ],
   "source": [
    "Res['Total']=Res['quantity']*Res['item_price']\n",
    "Res.head(5)"
   ]
  },
  {
   "cell_type": "code",
   "execution_count": 55,
   "id": "75b9c6b6-ad2b-4ba9-9928-1141166e1f94",
   "metadata": {},
   "outputs": [
    {
     "data": {
      "text/plain": [
       "39237.02"
      ]
     },
     "execution_count": 55,
     "metadata": {},
     "output_type": "execute_result"
    }
   ],
   "source": [
    "Res['Total'].sum()"
   ]
  },
  {
   "cell_type": "markdown",
   "id": "ffaae042-e8fe-4147-bfcb-74612ed56904",
   "metadata": {},
   "source": [
    "# Now I am going to merge the rows according to order_ID and the total amount will be add as per the order ID's"
   ]
  },
  {
   "cell_type": "code",
   "execution_count": 50,
   "id": "28eeaf25-02b4-48b3-8540-9015c44ad8ab",
   "metadata": {},
   "outputs": [
    {
     "data": {
      "text/html": [
       "<div>\n",
       "<style scoped>\n",
       "    .dataframe tbody tr th:only-of-type {\n",
       "        vertical-align: middle;\n",
       "    }\n",
       "\n",
       "    .dataframe tbody tr th {\n",
       "        vertical-align: top;\n",
       "    }\n",
       "\n",
       "    .dataframe thead th {\n",
       "        text-align: right;\n",
       "    }\n",
       "</style>\n",
       "<table border=\"1\" class=\"dataframe\">\n",
       "  <thead>\n",
       "    <tr style=\"text-align: right;\">\n",
       "      <th></th>\n",
       "      <th>order_id</th>\n",
       "      <th>Total</th>\n",
       "    </tr>\n",
       "  </thead>\n",
       "  <tbody>\n",
       "    <tr>\n",
       "      <th>0</th>\n",
       "      <td>1</td>\n",
       "      <td>11.56</td>\n",
       "    </tr>\n",
       "    <tr>\n",
       "      <th>1</th>\n",
       "      <td>2</td>\n",
       "      <td>33.96</td>\n",
       "    </tr>\n",
       "    <tr>\n",
       "      <th>2</th>\n",
       "      <td>3</td>\n",
       "      <td>12.67</td>\n",
       "    </tr>\n",
       "    <tr>\n",
       "      <th>3</th>\n",
       "      <td>4</td>\n",
       "      <td>21.00</td>\n",
       "    </tr>\n",
       "    <tr>\n",
       "      <th>4</th>\n",
       "      <td>5</td>\n",
       "      <td>13.70</td>\n",
       "    </tr>\n",
       "  </tbody>\n",
       "</table>\n",
       "</div>"
      ],
      "text/plain": [
       "   order_id  Total\n",
       "0         1  11.56\n",
       "1         2  33.96\n",
       "2         3  12.67\n",
       "3         4  21.00\n",
       "4         5  13.70"
      ]
     },
     "execution_count": 50,
     "metadata": {},
     "output_type": "execute_result"
    }
   ],
   "source": [
    "Final_Bill = Res.groupby('order_id').agg({'Total': 'sum'}).reset_index()\n",
    "Final_Bill.head(5)"
   ]
  },
  {
   "cell_type": "markdown",
   "id": "6dfaa65c-d984-49ba-aa94-d5a6ab341dde",
   "metadata": {},
   "source": [
    "## Total Sale of Restaurant"
   ]
  },
  {
   "cell_type": "code",
   "execution_count": 28,
   "id": "a51213aa-721d-4b58-897b-929b436d8cb1",
   "metadata": {},
   "outputs": [
    {
     "data": {
      "text/plain": [
       "39237.02"
      ]
     },
     "execution_count": 28,
     "metadata": {},
     "output_type": "execute_result"
    }
   ],
   "source": [
    "Final_Bill['Total'].sum()"
   ]
  },
  {
   "cell_type": "markdown",
   "id": "567a790c-649f-464c-99ac-9714a5911963",
   "metadata": {},
   "source": [
    "## The Person who's bill is highest"
   ]
  },
  {
   "cell_type": "code",
   "execution_count": 31,
   "id": "068239c0-4b5f-4963-804a-cad9705c8154",
   "metadata": {},
   "outputs": [
    {
     "data": {
      "text/html": [
       "<div>\n",
       "<style scoped>\n",
       "    .dataframe tbody tr th:only-of-type {\n",
       "        vertical-align: middle;\n",
       "    }\n",
       "\n",
       "    .dataframe tbody tr th {\n",
       "        vertical-align: top;\n",
       "    }\n",
       "\n",
       "    .dataframe thead th {\n",
       "        text-align: right;\n",
       "    }\n",
       "</style>\n",
       "<table border=\"1\" class=\"dataframe\">\n",
       "  <thead>\n",
       "    <tr style=\"text-align: right;\">\n",
       "      <th></th>\n",
       "      <th>order_id</th>\n",
       "      <th>Total</th>\n",
       "    </tr>\n",
       "  </thead>\n",
       "  <tbody>\n",
       "    <tr>\n",
       "      <th>1442</th>\n",
       "      <td>1443</td>\n",
       "      <td>1074.24</td>\n",
       "    </tr>\n",
       "  </tbody>\n",
       "</table>\n",
       "</div>"
      ],
      "text/plain": [
       "      order_id    Total\n",
       "1442      1443  1074.24"
      ]
     },
     "execution_count": 31,
     "metadata": {},
     "output_type": "execute_result"
    }
   ],
   "source": [
    "Final_Bill.sort_values(by='Total',ascending=False).head(1)"
   ]
  },
  {
   "cell_type": "code",
   "execution_count": 53,
   "id": "42848e47-dca4-47ec-b4ec-5808a5c19ddc",
   "metadata": {},
   "outputs": [
    {
     "data": {
      "text/html": [
       "<div>\n",
       "<style scoped>\n",
       "    .dataframe tbody tr th:only-of-type {\n",
       "        vertical-align: middle;\n",
       "    }\n",
       "\n",
       "    .dataframe tbody tr th {\n",
       "        vertical-align: top;\n",
       "    }\n",
       "\n",
       "    .dataframe thead th {\n",
       "        text-align: right;\n",
       "    }\n",
       "</style>\n",
       "<table border=\"1\" class=\"dataframe\">\n",
       "  <thead>\n",
       "    <tr style=\"text-align: right;\">\n",
       "      <th></th>\n",
       "      <th>item_name</th>\n",
       "      <th>Total</th>\n",
       "    </tr>\n",
       "  </thead>\n",
       "  <tbody>\n",
       "    <tr>\n",
       "      <th>17</th>\n",
       "      <td>Chicken Bowl</td>\n",
       "      <td>8044.63</td>\n",
       "    </tr>\n",
       "    <tr>\n",
       "      <th>18</th>\n",
       "      <td>Chicken Burrito</td>\n",
       "      <td>6387.06</td>\n",
       "    </tr>\n",
       "    <tr>\n",
       "      <th>39</th>\n",
       "      <td>Steak Burrito</td>\n",
       "      <td>4236.13</td>\n",
       "    </tr>\n",
       "    <tr>\n",
       "      <th>38</th>\n",
       "      <td>Steak Bowl</td>\n",
       "      <td>2479.81</td>\n",
       "    </tr>\n",
       "    <tr>\n",
       "      <th>25</th>\n",
       "      <td>Chips and Guacamole</td>\n",
       "      <td>2475.62</td>\n",
       "    </tr>\n",
       "  </tbody>\n",
       "</table>\n",
       "</div>"
      ],
      "text/plain": [
       "              item_name    Total\n",
       "17         Chicken Bowl  8044.63\n",
       "18      Chicken Burrito  6387.06\n",
       "39        Steak Burrito  4236.13\n",
       "38           Steak Bowl  2479.81\n",
       "25  Chips and Guacamole  2475.62"
      ]
     },
     "execution_count": 53,
     "metadata": {},
     "output_type": "execute_result"
    }
   ],
   "source": [
    "#With this method I have merged the same items to find which item is in highest demand\n",
    "Item_sale=Res.groupby('item_name')['Total'].sum().reset_index()\n",
    "# This is the method to arange the complete column in ascending order as per their total amount\n",
    "Item_sale.sort_values(by='Total', ascending=False).head(5)"
   ]
  },
  {
   "cell_type": "code",
   "execution_count": 56,
   "id": "6d5363d4-3abc-443c-bec8-39e4dfba0a72",
   "metadata": {},
   "outputs": [],
   "source": [
    "Item_sale_percent=((Item_sale['Total'])/(Item_sale['Total'].sum()))*100\n",
    "Item_sale['Total_%']=Item_sale_percent"
   ]
  },
  {
   "cell_type": "code",
   "execution_count": 57,
   "id": "1328f912-f3d9-4083-9c1b-1afa70b4aa3b",
   "metadata": {},
   "outputs": [
    {
     "data": {
      "text/html": [
       "<div>\n",
       "<style scoped>\n",
       "    .dataframe tbody tr th:only-of-type {\n",
       "        vertical-align: middle;\n",
       "    }\n",
       "\n",
       "    .dataframe tbody tr th {\n",
       "        vertical-align: top;\n",
       "    }\n",
       "\n",
       "    .dataframe thead th {\n",
       "        text-align: right;\n",
       "    }\n",
       "</style>\n",
       "<table border=\"1\" class=\"dataframe\">\n",
       "  <thead>\n",
       "    <tr style=\"text-align: right;\">\n",
       "      <th></th>\n",
       "      <th>item_name</th>\n",
       "      <th>Total</th>\n",
       "      <th>Total_%</th>\n",
       "    </tr>\n",
       "  </thead>\n",
       "  <tbody>\n",
       "    <tr>\n",
       "      <th>0</th>\n",
       "      <td>6 Pack Soft Drink</td>\n",
       "      <td>369.93</td>\n",
       "      <td>0.942809</td>\n",
       "    </tr>\n",
       "    <tr>\n",
       "      <th>1</th>\n",
       "      <td>Barbacoa Bowl</td>\n",
       "      <td>672.36</td>\n",
       "      <td>1.713586</td>\n",
       "    </tr>\n",
       "  </tbody>\n",
       "</table>\n",
       "</div>"
      ],
      "text/plain": [
       "           item_name   Total   Total_%\n",
       "0  6 Pack Soft Drink  369.93  0.942809\n",
       "1      Barbacoa Bowl  672.36  1.713586"
      ]
     },
     "execution_count": 57,
     "metadata": {},
     "output_type": "execute_result"
    }
   ],
   "source": [
    "Item_sale.head(2)"
   ]
  },
  {
   "cell_type": "code",
   "execution_count": 60,
   "id": "70af7049-5ffa-4f6f-ac11-081637c5f0e9",
   "metadata": {},
   "outputs": [
    {
     "data": {
      "text/html": [
       "<div>\n",
       "<style scoped>\n",
       "    .dataframe tbody tr th:only-of-type {\n",
       "        vertical-align: middle;\n",
       "    }\n",
       "\n",
       "    .dataframe tbody tr th {\n",
       "        vertical-align: top;\n",
       "    }\n",
       "\n",
       "    .dataframe thead th {\n",
       "        text-align: right;\n",
       "    }\n",
       "</style>\n",
       "<table border=\"1\" class=\"dataframe\">\n",
       "  <thead>\n",
       "    <tr style=\"text-align: right;\">\n",
       "      <th></th>\n",
       "      <th>item_name</th>\n",
       "      <th>Total</th>\n",
       "      <th>Total_%</th>\n",
       "    </tr>\n",
       "  </thead>\n",
       "  <tbody>\n",
       "    <tr>\n",
       "      <th>17</th>\n",
       "      <td>Chicken Bowl</td>\n",
       "      <td>8044.63</td>\n",
       "      <td>20.502653</td>\n",
       "    </tr>\n",
       "    <tr>\n",
       "      <th>18</th>\n",
       "      <td>Chicken Burrito</td>\n",
       "      <td>6387.06</td>\n",
       "      <td>16.278148</td>\n",
       "    </tr>\n",
       "    <tr>\n",
       "      <th>39</th>\n",
       "      <td>Steak Burrito</td>\n",
       "      <td>4236.13</td>\n",
       "      <td>10.796258</td>\n",
       "    </tr>\n",
       "    <tr>\n",
       "      <th>38</th>\n",
       "      <td>Steak Bowl</td>\n",
       "      <td>2479.81</td>\n",
       "      <td>6.320077</td>\n",
       "    </tr>\n",
       "    <tr>\n",
       "      <th>25</th>\n",
       "      <td>Chips and Guacamole</td>\n",
       "      <td>2475.62</td>\n",
       "      <td>6.309399</td>\n",
       "    </tr>\n",
       "  </tbody>\n",
       "</table>\n",
       "</div>"
      ],
      "text/plain": [
       "              item_name    Total    Total_%\n",
       "17         Chicken Bowl  8044.63  20.502653\n",
       "18      Chicken Burrito  6387.06  16.278148\n",
       "39        Steak Burrito  4236.13  10.796258\n",
       "38           Steak Bowl  2479.81   6.320077\n",
       "25  Chips and Guacamole  2475.62   6.309399"
      ]
     },
     "execution_count": 60,
     "metadata": {},
     "output_type": "execute_result"
    }
   ],
   "source": [
    "Item_sale.sort_values(by='Total_%', ascending=False).head(5)"
   ]
  },
  {
   "cell_type": "code",
   "execution_count": 58,
   "id": "a1980372-a177-43fe-9787-85e40928021a",
   "metadata": {},
   "outputs": [
    {
     "data": {
      "image/png": "[encoded data removed]",
      "text/plain": [
       "<Figure size 400x400 with 1 Axes>"
      ]
     },
     "metadata": {},
     "output_type": "display_data"
    }
   ],
   "source": [
    "# Example data (replace this with your actual data)\n",
    "categories = Item_sale['item_name']\n",
    "values = Item_sale['Total_%']\n",
    "\n",
    "# Sort the categories based on values\n",
    "sorted_data1 = sorted(zip(categories, values), key=lambda x: x[1], reverse=True)\n",
    "\n",
    "# Separate top 5 categories and sum up the rest\n",
    "top_5_categories = [x[0] for x in sorted_data1[:5]]\n",
    "top_5_values = [x[1] for x in sorted_data1[:5]]\n",
    "other_value = sum(x[1] for x in sorted_data1[5:])\n",
    "\n",
    "# Add 'Others' category with its value\n",
    "top_5_categories.append('Others')\n",
    "top_5_values.append(other_value)\n",
    "\n",
    "# Plotting\n",
    "plt.figure(figsize=(4, 4))\n",
    "plt.pie(top_5_values, labels=top_5_categories, autopct='%1.1f%%')\n",
    "plt.title('Top 5 Categories and Others')\n",
    "plt.show()"
   ]
  },
  {
   "cell_type": "markdown",
   "id": "f1ed3d4a-ad1e-4a78-afb0-4ecddcd3bd58",
   "metadata": {},
   "source": [
    "\r\n",
    "This restaurant identifies chicken bowl as their highest-selling item, they can implement various strategies to further grow their business:\r\n",
    "\r\n",
    "1. **Quality Enhancement**: Ensure the chicken bowl's quality remains consistently high to meet customer expectations and encourage repeat purchases.\r\n",
    "\r\n",
    "2. **Menu Diversification**: Introduce different varieties of chicken bowls, such as spicy, grilled, or vegetarian options, to cater to diverse customer preferences.\r\n",
    "\r\n",
    "3. **Combo Deals**: Offer chicken bowls as part of combo meals along with sides like chips, salsa, or drinks to increase the average order value and customer satisfaction.\r\n",
    "\r\n",
    "4. **Promotions and Specials**: Run promotional campaigns or specials focused on chicken bowls, such as limited-time discounts, loyalty rewards, or \"bowl of the day\" deals to attract more customers.\r\n",
    "\r\n",
    "5. **Social Media Marketing**: Utilize social media platforms to showcase mouth-watering images and videos of chicken bowls, engage with customers, and promote special offers or events.\r\n",
    "\r\n",
    "6. **Customer Feedback Incorporation**: Regularly gather feedback from customers about their chicken bowl experience and use it to make necessary adjustments or improvements to the recipe or presentation.\r\n",
    "\r\n",
    "7. **Online Ordering and Delivery Services**: Provide convenient online ordering and delivery options for chicken bowls to reach a wider customer base, especially considering the growing trend of food delivery services.\r\n",
    "\r\n",
    "8. **Catering Services**: Offer catering services for events, parties, or corporate meetings, featuring chicken bowls as one of the main menu items, to expand the restaurant's reach and generate additional revenue streams.\r\n",
    "\r\n",
    "9. **Seasonal Variations**: Introduce seasonal variations of chicken bowls, incorporating fresh and seasonal ingredients or flavors to keep the menu innovative and appealing throughout the year.\r\n",
    "\r\n",
    "10. **Cross-Promotions and Collaborations**: Partner with local businesses or organizations for cross-promotional opportunities, such as hosting bowl-themed events or collaborating with nearby businesses for joint marketing efforts.\r\n",
    "\r\n",
    "By leveraging the popularity of chicken bowls and implementing these strategies effectively, the restaurant can capitalize on its success and drive further growth in its business."
   ]
  },
  {
   "cell_type": "code",
   "execution_count": null,
   "id": "b28625c4-5502-4bb8-8e62-ff7fe3abf59c",
   "metadata": {},
   "outputs": [],
   "source": []
  },
  {
   "cell_type": "code",
   "execution_count": null,
   "id": "d479f738-5094-4521-998f-74783befe4fe",
   "metadata": {},
   "outputs": [],
   "source": []
  }
 ],
 "metadata": {
  "kernelspec": {
   "display_name": "Python 3 (ipykernel)",
   "language": "python",
   "name": "python3"
  },
  "language_info": {
   "codemirror_mode": {
    "name": "ipython",
    "version": 3
   },
   "file_extension": ".py",
   "mimetype": "text/x-python",
   "name": "python",
   "nbconvert_exporter": "python",
   "pygments_lexer": "ipython3",
   "version": "3.11.7"
  }
 },
 "nbformat": 4,
 "nbformat_minor": 5
}
